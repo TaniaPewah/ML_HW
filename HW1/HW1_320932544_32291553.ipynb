{
  "nbformat": 4,
  "nbformat_minor": 0,
  "metadata": {
    "colab": {
      "provenance": []
    },
    "kernelspec": {
      "name": "python3",
      "display_name": "Python 3"
    },
    "language_info": {
      "name": "python"
    }
  },
  "cells": [
    {
      "cell_type": "code",
      "execution_count": 1,
      "metadata": {
        "id": "MPle3AlA1KXy"
      },
      "outputs": [],
      "source": [
        "import numpy as np\n",
        "import matplotlib.pyplot as plt\n",
        "import pandas as pd\n",
        "from sklearn.neighbors import KNeighborsClassifier"
      ]
    },
    {
      "cell_type": "markdown",
      "source": [
        "1.\n"
      ],
      "metadata": {
        "id": "n88ogqLI2txd"
      }
    },
    {
      "cell_type": "code",
      "source": [
        "\n",
        "miu_zero = [-1, 1]\n",
        "miu_one = [-2.5, 2.5]\n",
        "miu_two = [-4.5, 4.5]\n",
        "\n",
        "sigma = [1, 1]\n",
        "samples = np.zeros([700, 3])\n",
        "for i in range(700):\n",
        "    miu_index = 0\n",
        "    rand_index = np.random.rand()\n",
        "    if rand_index >= 2/3:\n",
        "        miu_index = 2\n",
        "        sample = np.random.normal(miu_two, sigma)\n",
        "    elif 1/3 < rand_index < 2/3:\n",
        "        miu_index = 1\n",
        "        sample = np.random.normal(miu_one, sigma)\n",
        "    else:\n",
        "        sample = np.random.normal(miu_zero, sigma)\n",
        "\n",
        "    samples[i] = [sample[0], sample[1], miu_index]"
      ],
      "metadata": {
        "id": "tepG7NmB1QKy"
      },
      "execution_count": 2,
      "outputs": []
    },
    {
      "cell_type": "markdown",
      "source": [
        "2."
      ],
      "metadata": {
        "id": "g6CNTEMe2700"
      }
    },
    {
      "cell_type": "code",
      "source": [
        "data = pd.DataFrame(samples, columns = ['x','y','label'])\n",
        "\n",
        "miu_zero_df = data[data['label'] == 0]\n",
        "miu_one_df = data[data['label'] == 1]\n",
        "miu_two_df = data[data['label'] == 2]\n"
      ],
      "metadata": {
        "id": "pGCEAsBb1WRL"
      },
      "execution_count": 3,
      "outputs": []
    },
    {
      "cell_type": "code",
      "source": [
        "plt.scatter(x=miu_zero_df['x'], y=miu_zero_df['y'], label='0')\n",
        "plt.scatter(x=miu_one_df['x'], y=miu_one_df['y'], label='1')\n",
        "plt.scatter(x=miu_two_df['x'], y=miu_two_df['y'], label='2')\n",
        "plt.legend()"
      ],
      "metadata": {
        "colab": {
          "base_uri": "https://localhost:8080/",
          "height": 283
        },
        "id": "-bWJQgiB1cG6",
        "outputId": "55f028fb-acd8-43d1-91f7-a215809d0235"
      },
      "execution_count": 4,
      "outputs": [
        {
          "output_type": "execute_result",
          "data": {
            "text/plain": [
              "<matplotlib.legend.Legend at 0x7f0625819c90>"
            ]
          },
          "metadata": {},
          "execution_count": 4
        },
        {
          "output_type": "display_data",
          "data": {
            "text/plain": [
              "<Figure size 432x288 with 1 Axes>"
            ],
            "image/png": "[encoded data removed]"
          },
          "metadata": {
            "needs_background": "light"
          }
        }
      ]
    },
    {
      "cell_type": "markdown",
      "source": [
        "3."
      ],
      "metadata": {
        "id": "Qy5B6H623Hff"
      }
    },
    {
      "cell_type": "code",
      "source": [
        "\n",
        "test_samples = np.zeros([300, 3])\n",
        "for i in range(300):\n",
        "    miu_index = 0\n",
        "    rand_index = np.random.rand()\n",
        "    if rand_index >= 2/3:\n",
        "        miu_index = 2\n",
        "        sample = np.random.normal(miu_two, sigma)\n",
        "    elif 1/3 < rand_index < 2/3:\n",
        "        miu_index = 1\n",
        "        sample = np.random.normal(miu_one, sigma)\n",
        "    else:\n",
        "        sample = np.random.normal(miu_zero, sigma)\n",
        "\n",
        "    test_samples[i] = [sample[0], sample[1], miu_index]\n",
        "test_data = pd.DataFrame(test_samples, columns=['x', 'y', 'label'])"
      ],
      "metadata": {
        "id": "rU10zC2i1hYq"
      },
      "execution_count": 5,
      "outputs": []
    },
    {
      "cell_type": "code",
      "source": [
        "\n",
        "miu_zero_df = test_data[test_data['label'] == 0]\n",
        "miu_one_df = test_data[test_data['label'] == 1]\n",
        "miu_two_df = test_data[test_data['label'] == 2]\n",
        "\n",
        "plt.scatter(x=miu_zero_df['x'], y=miu_zero_df['y'], label='0')\n",
        "plt.scatter(x=miu_one_df['x'], y=miu_one_df['y'], label='1')\n",
        "plt.scatter(x=miu_two_df['x'], y=miu_two_df['y'], label='2')\n",
        "plt.legend()\n",
        "plt.title('test data')\n",
        "\n",
        "plt.show()"
      ],
      "metadata": {
        "colab": {
          "base_uri": "https://localhost:8080/",
          "height": 281
        },
        "id": "hldAnXXi1mFO",
        "outputId": "ab3ff5c9-9566-4d17-b34e-0b9d5427c6da"
      },
      "execution_count": 6,
      "outputs": [
        {
          "output_type": "display_data",
          "data": {
            "text/plain": [
              "<Figure size 432x288 with 1 Axes>"
            ],
            "image/png": "[encoded data removed]"
          },
          "metadata": {
            "needs_background": "light"
          }
        }
      ]
    },
    {
      "cell_type": "markdown",
      "source": [
        "4."
      ],
      "metadata": {
        "id": "2KPCeRGe3Nm7"
      }
    },
    {
      "cell_type": "code",
      "source": [
        "k = 1\n",
        "x_cols = ['x', 'y']\n",
        "y_cols = 'label'\n",
        "model = KNeighborsClassifier(n_neighbors=k)\n",
        "model.fit(X=data[x_cols], y=data[y_cols])\n",
        "y_train_pred = model.predict(X=data[x_cols])\n",
        "y_test_pred = model.predict(X=test_data[x_cols])\n",
        "\n",
        "y_train_true = data[y_cols].values\n",
        "y_test_true = test_data[y_cols].values\n",
        "train_accuracy = np.sum(y_train_pred == y_train_true) / len(y_train_true)\n",
        "test_accuracy = np.sum(y_test_pred == y_test_true) / len(y_test_true)\n",
        "print(train_accuracy)  # 1\n",
        "print(test_accuracy)  # 0.82666"
      ],
      "metadata": {
        "colab": {
          "base_uri": "https://localhost:8080/"
        },
        "id": "72jTvHIX1sCO",
        "outputId": "d6b69f93-babe-4564-baa7-22ad8dfb443b"
      },
      "execution_count": 8,
      "outputs": [
        {
          "output_type": "stream",
          "name": "stdout",
          "text": [
            "1.0\n",
            "0.7766666666666666\n"
          ]
        }
      ]
    },
    {
      "cell_type": "markdown",
      "source": [
        "classification error rate on train : 1.0\n",
        "classification error rate on test : 0.77666666"
      ],
      "metadata": {
        "id": "U3aEW0df3Xcq"
      }
    },
    {
      "cell_type": "markdown",
      "source": [
        "5.\n",
        "expected to increase accuracy with increase in K in the test set."
      ],
      "metadata": {
        "id": "5aeBTUIv3nJt"
      }
    },
    {
      "cell_type": "code",
      "source": [
        "accuracies = []\n",
        "for i in range(1, 21):\n",
        "    k = i\n",
        "    model = KNeighborsClassifier(n_neighbors=k)\n",
        "    model.fit(X=data[x_cols], y=data[y_cols])\n",
        "    y_train_pred = model.predict(X=data[x_cols])\n",
        "    y_test_pred = model.predict(X=test_data[x_cols])\n",
        "\n",
        "    y_train_true = data[y_cols].values\n",
        "    y_test_true = test_data[y_cols].values\n",
        "    train_accuracy = np.sum(y_train_pred == y_train_true) / len(y_train_true)\n",
        "    test_accuracy = np.sum(y_test_pred == y_test_true) / len(y_test_true)\n",
        "    accuracies.append([1- train_accuracy, 1- test_accuracy])"
      ],
      "metadata": {
        "id": "YwwJN1Ob11WW"
      },
      "execution_count": 9,
      "outputs": []
    },
    {
      "cell_type": "code",
      "source": [
        "plt.plot( range(1,21), np.transpose(accuracies)[0], label='train')\n",
        "plt.plot( range(1,21), np.transpose(accuracies)[1], label='test')\n",
        "plt.xlabel(\"K\")\n",
        "plt.ylabel(\"Error\")\n",
        "plt.legend()\n",
        "plt.show()"
      ],
      "metadata": {
        "colab": {
          "base_uri": "https://localhost:8080/",
          "height": 279
        },
        "id": "pC8LMnaa159c",
        "outputId": "d9ae3a7b-64ac-4e87-b0ca-b12123a158fa"
      },
      "execution_count": 10,
      "outputs": [
        {
          "output_type": "display_data",
          "data": {
            "text/plain": [
              "<Figure size 432x288 with 1 Axes>"
            ],
            "image/png": "[encoded data removed]"
          },
          "metadata": {
            "needs_background": "light"
          }
        }
      ]
    },
    {
      "cell_type": "markdown",
      "source": [
        "the test error decreased with k increase, matched expectations\n",
        "the test not always decrease with k , for example at the graph we got we have the error increase from k=10 to k=~13\n",
        "\n"
      ],
      "metadata": {
        "id": "kyObIO1L2AGc"
      }
    },
    {
      "cell_type": "markdown",
      "source": [
        "6.\n",
        "we expect the error to decrease with mtrain-i increase:"
      ],
      "metadata": {
        "id": "oYpiiinN4H-8"
      }
    },
    {
      "cell_type": "code",
      "source": [
        "def build_train(train_size):\n",
        "    samples = np.zeros([train_size, 3])\n",
        "    for i in range(train_size):\n",
        "        miu_index = 0\n",
        "        rand_index = np.random.rand()\n",
        "        if rand_index >= 2 / 3:\n",
        "            miu_index = 2\n",
        "            sample = np.random.normal(miu_two, sigma)\n",
        "        elif 1 / 3 < rand_index < 2 / 3:\n",
        "            miu_index = 1\n",
        "            sample = np.random.normal(miu_one, sigma)\n",
        "        else:\n",
        "            sample = np.random.normal(miu_zero, sigma)\n",
        "\n",
        "        samples[i] = [sample[0], sample[1], miu_index]\n",
        "\n",
        "    data = pd.DataFrame(samples, columns=['x', 'y', 'label'])\n",
        "    return data\n"
      ],
      "metadata": {
        "id": "M1eP5YHE2GN2"
      },
      "execution_count": 11,
      "outputs": []
    },
    {
      "cell_type": "code",
      "source": [
        "accuracies = []\n",
        "\n",
        "new_test = build_train(100)\n",
        "for i in range(10, 41, 5):\n",
        "    k = 10\n",
        "    data = build_train(i)\n",
        "    model = KNeighborsClassifier(n_neighbors=k)\n",
        "    model.fit(X=data[x_cols], y=data[y_cols])\n",
        "    y_train_pred = model.predict(X=data[x_cols])\n",
        "    y_test_pred = model.predict(X=new_test[x_cols])\n",
        "\n",
        "    y_train_true = data[y_cols].values\n",
        "    y_test_true = new_test[y_cols].values\n",
        "    train_accuracy = np.sum(y_train_pred == y_train_true) / len(y_train_true)\n",
        "    test_accuracy = np.sum(y_test_pred == y_test_true) / len(y_test_true)\n",
        "    accuracies.append([1- train_accuracy, 1- test_accuracy])\n",
        "print(accuracies)\n"
      ],
      "metadata": {
        "colab": {
          "base_uri": "https://localhost:8080/"
        },
        "id": "050pcZme2Jsi",
        "outputId": "e3f19829-cb85-4bc0-ca3b-65ddf5010b97"
      },
      "execution_count": 12,
      "outputs": [
        {
          "output_type": "stream",
          "name": "stdout",
          "text": [
            "[[0.5, 0.7], [0.4, 0.39], [0.09999999999999998, 0.18000000000000005], [0.07999999999999996, 0.30000000000000004], [0.09999999999999998, 0.15000000000000002], [0.1428571428571429, 0.16000000000000003], [0.19999999999999996, 0.16000000000000003]]\n"
          ]
        }
      ]
    },
    {
      "cell_type": "code",
      "source": [
        "plt.plot( range(10, 41, 5), np.transpose(accuracies)[0], label='train')\n",
        "plt.plot( range(10, 41, 5), np.transpose(accuracies)[1], label='test')\n",
        "plt.xlabel(\"test samples size\")\n",
        "plt.ylabel(\"Error\")\n",
        "plt.legend()\n",
        "plt.show()"
      ],
      "metadata": {
        "colab": {
          "base_uri": "https://localhost:8080/",
          "height": 279
        },
        "id": "xCUawoDy2NC4",
        "outputId": "eef07fa1-43d0-45ba-ba2d-91d48990ac23"
      },
      "execution_count": 16,
      "outputs": [
        {
          "output_type": "display_data",
          "data": {
            "text/plain": [
              "<Figure size 432x288 with 1 Axes>"
            ],
            "image/png": "[encoded data removed]"
          },
          "metadata": {
            "needs_background": "light"
          }
        }
      ]
    },
    {
      "cell_type": "markdown",
      "source": [
        "as we expected the error was overall decreasing, but the graph was erratic due to low train size.\n"
      ],
      "metadata": {
        "id": "Bdm3w-kD2QUA"
      }
    },
    {
      "cell_type": "markdown",
      "source": [
        "7. Yes, the plots change between the trials. Not always meet our expectations (from step 6) at every trial but the general trend is descending\n",
        "8. Suggest a variation of a k-NN classifier where the distances of the neighbors are taken into account in the prediction (No need to implement anything in code)."
      ],
      "metadata": {
        "id": "jirwowcl4kfE"
      }
    },
    {
      "cell_type": "markdown",
      "source": [],
      "metadata": {
        "id": "3OWK9Tek4kYg"
      }
    }
  ]
}